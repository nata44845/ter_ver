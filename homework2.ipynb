{
 "cells": [
  {
   "cell_type": "code",
   "execution_count": 36,
   "metadata": {},
   "outputs": [],
   "source": [
    "from math import factorial\n",
    "def combinations(n, k):\n",
    "    return factorial(n) / (factorial(n - k) * factorial(k))"
   ]
  },
  {
   "cell_type": "markdown",
   "metadata": {},
   "source": [
    "### Задание 1.\n",
    "\n",
    "Вероятность того, что стрелок попадет в мишень, выстрелив один раз, равна 0.8. Стрелок выстрелил 100 раз. Найдите вероятность того, что стрелок попадет в цель ровно 85 раз."
   ]
  },
  {
   "cell_type": "code",
   "execution_count": 3,
   "metadata": {},
   "outputs": [
    {
     "data": {
      "text/plain": [
       "0.048061793700746355"
      ]
     },
     "execution_count": 3,
     "metadata": {},
     "output_type": "execute_result"
    }
   ],
   "source": [
    "p=0.8\n",
    "n=100\n",
    "q=1-p\n",
    "k=85\n",
    "P=combinations(n,k)*(p**k)*(q**(n-k))\n",
    "P\n"
   ]
  },
  {
   "cell_type": "markdown",
   "metadata": {},
   "source": [
    "### Задание 2.\n",
    "\n",
    "Вероятность того, что лампочка перегорит в течение первого дня эксплуатации, равна 0.0004. В жилом комплексе после ремонта в один день включили 5000 новых лампочек. Какова вероятность, что ни одна из них не перегорит в первый день? Какова вероятность, что перегорят ровно две?"
   ]
  },
  {
   "cell_type": "code",
   "execution_count": 5,
   "metadata": {},
   "outputs": [
    {
     "data": {
      "text/plain": [
       "2.0"
      ]
     },
     "execution_count": 5,
     "metadata": {},
     "output_type": "execute_result"
    }
   ],
   "source": [
    "n=5000\n",
    "p=0.0004\n",
    "l=n*p\n",
    "l"
   ]
  },
  {
   "cell_type": "markdown",
   "metadata": {},
   "source": [
    "Какова вероятность, что ни одна из них не перегорит в первый день?"
   ]
  },
  {
   "cell_type": "code",
   "execution_count": 15,
   "metadata": {},
   "outputs": [
    {
     "data": {
      "text/plain": [
       "0.13516435986159167"
      ]
     },
     "execution_count": 15,
     "metadata": {},
     "output_type": "execute_result"
    }
   ],
   "source": [
    "m=0\n",
    "P_0=(l**m)/factorial(m)*(2.72**(-l))\n",
    "P_0"
   ]
  },
  {
   "cell_type": "markdown",
   "metadata": {},
   "source": [
    "Какова вероятность, что перегорят ровно две?"
   ]
  },
  {
   "cell_type": "code",
   "execution_count": 8,
   "metadata": {},
   "outputs": [
    {
     "data": {
      "text/plain": [
       "0.27032871972318334"
      ]
     },
     "execution_count": 8,
     "metadata": {},
     "output_type": "execute_result"
    }
   ],
   "source": [
    "m=2\n",
    "P_2=(l**m)/factorial(m)*(2.72**(-l))\n",
    "P_2"
   ]
  },
  {
   "cell_type": "markdown",
   "metadata": {},
   "source": [
    "### Задание 3.\n",
    "\n",
    "Монету подбросили 144 раза. Какова вероятность, что орел выпадет ровно 70 раз?"
   ]
  },
  {
   "cell_type": "code",
   "execution_count": 17,
   "metadata": {},
   "outputs": [
    {
     "data": {
      "text/plain": [
       "0.06281178035144776"
      ]
     },
     "execution_count": 17,
     "metadata": {},
     "output_type": "execute_result"
    }
   ],
   "source": [
    "n=144\n",
    "k=70\n",
    "p=0.5\n",
    "q=1-p\n",
    "P=combinations(n,k)*(p**k)*(q**(n-k))\n",
    "P"
   ]
  },
  {
   "cell_type": "markdown",
   "metadata": {},
   "source": [
    "### Задание 4.\n",
    "\n",
    "В первом ящике находится 10 мячей, из которых 7 - белые. Во втором ящике - 11 мячей, из которых 9 белых. Из каждого ящика вытаскивают случайным образом по два мяча. Какова вероятность того, что все мячи белые? Какова вероятность того, что ровно два мяча белые? Какова вероятность того, что хотя бы один мяч белый?"
   ]
  },
  {
   "cell_type": "markdown",
   "metadata": {},
   "source": [
    "Какова вероятность того, что все мячи белые? "
   ]
  },
  {
   "cell_type": "code",
   "execution_count": 3,
   "metadata": {},
   "outputs": [
    {
     "data": {
      "text/plain": [
       "0.3054545454545455"
      ]
     },
     "execution_count": 3,
     "metadata": {},
     "output_type": "execute_result"
    }
   ],
   "source": [
    "P=combinations(7,2)*combinations(9,2)/(combinations(10,2)*combinations(11,2))\n",
    "P"
   ]
  },
  {
   "cell_type": "markdown",
   "metadata": {},
   "source": [
    "Какова вероятность того, что ровно два мяча белые?"
   ]
  },
  {
   "cell_type": "code",
   "execution_count": 97,
   "metadata": {},
   "outputs": [
    {
     "data": {
      "text/plain": [
       "0.20484848484848484"
      ]
     },
     "execution_count": 97,
     "metadata": {},
     "output_type": "execute_result"
    }
   ],
   "source": [
    "n1 = combinations(3,2)*combinations(9,2)\n",
    "n2 = combinations(7,1)*combinations(3,1)*combinations(9,1)*combinations(2,1)\n",
    "n3 = combinations(7,2)*combinations(2,2)\n",
    "\n",
    "P=(n1+n2+n3)/(combinations(10,2)*combinations(11,2))\n",
    "P"
   ]
  },
  {
   "cell_type": "markdown",
   "metadata": {},
   "source": [
    "Какова вероятность того, что хотя бы один мяч белый?"
   ]
  },
  {
   "cell_type": "code",
   "execution_count": 8,
   "metadata": {},
   "outputs": [
    {
     "data": {
      "text/plain": [
       "0.9987878787878788"
      ]
     },
     "execution_count": 8,
     "metadata": {},
     "output_type": "execute_result"
    }
   ],
   "source": [
    "P=1 - combinations(3,2)*combinations(2,2)/(combinations(10,2)*combinations(11,2))\n",
    "P"
   ]
  },
  {
   "cell_type": "code",
   "execution_count": 19,
   "metadata": {},
   "outputs": [
    {
     "data": {
      "text/plain": [
       "0.9987878787878788"
      ]
     },
     "execution_count": 19,
     "metadata": {},
     "output_type": "execute_result"
    }
   ],
   "source": [
    "n_0_0=combinations(7,0)*combinations(3,2)*combinations(9,0)*combinations(2,2)\n",
    "n_0_1=combinations(7,0)*combinations(3,2)*combinations(9,1)*combinations(2,1)\n",
    "n_0_2=combinations(7,0)*combinations(3,2)*combinations(9,2)*combinations(2,0)\n",
    "\n",
    "n_1_0=combinations(7,1)*combinations(3,1)*combinations(9,0)*combinations(2,2)\n",
    "n_1_1=combinations(7,1)*combinations(3,1)*combinations(9,1)*combinations(2,1)\n",
    "n_1_2=combinations(7,1)*combinations(3,1)*combinations(9,2)*combinations(2,0)\n",
    "\n",
    "n_2_0=combinations(7,2)*combinations(3,0)*combinations(9,0)*combinations(2,2)\n",
    "n_2_1=combinations(7,2)*combinations(3,0)*combinations(9,1)*combinations(2,1)\n",
    "n_2_2=combinations(7,2)*combinations(3,0)*combinations(9,2)*combinations(2,0)\n",
    "\n",
    "\n",
    "P=(n_0_1+n_0_2+n_1_0+n_1_1+n_1_2+n_2_0+n_2_1+n_2_2)/(combinations(10,2)*combinations(11,2))\n",
    "P"
   ]
  },
  {
   "cell_type": "markdown",
   "metadata": {},
   "source": [
    "Проверка"
   ]
  },
  {
   "cell_type": "code",
   "execution_count": 98,
   "metadata": {},
   "outputs": [
    {
     "name": "stdout",
     "output_type": "stream",
     "text": [
      "0.1962\n"
     ]
    }
   ],
   "source": [
    "import random\n",
    "n=10000\n",
    "m=0\n",
    "\n",
    "for i in range(n):\n",
    "\n",
    "    p1=[1]*10\n",
    "    p2=[1]*11\n",
    "\n",
    "    x1 = random.randrange(10) \n",
    "    x2 = x1\n",
    "    while x2==x1: \n",
    "        x2 = random.randrange(10)\n",
    "    x3 = x1\n",
    "    while x3==x1: \n",
    "        x3 = random.randrange(10)\n",
    "\n",
    "    p1[x1] = 0\n",
    "    p1[x2] = 0\n",
    "    p1[x3] = 0\n",
    "\n",
    "    x1 = random.randrange(11) \n",
    "    x2 = x1\n",
    "    while x2==x1: \n",
    "        x2 = random.randrange(11)\n",
    "\n",
    "    p2[x1] = 0\n",
    "    p2[x2] = 0\n",
    "\n",
    "    x1 = random.randrange(10) \n",
    "    x2 = x1\n",
    "    while x2==x1: \n",
    "        x2 = random.randrange(10)\n",
    "\n",
    "    x3 = random.randrange(11) \n",
    "    x4 = x3\n",
    "    while x4==x3: \n",
    "        x4 = random.randrange(11)\n",
    "\n",
    "    sum = p1[x1]+p1[x2]+p2[x3]+p2[x4]\n",
    "    if sum==2:\n",
    "        m+=1\n",
    "\n",
    "# print(p1)\n",
    "# print(x1,p1[x1],x2,p1[x2])\n",
    "# print(p2)\n",
    "# print(x3,p2[x3],x4,p2[x4])\n",
    "print(m/n)"
   ]
  }
 ],
 "metadata": {
  "kernelspec": {
   "display_name": "base",
   "language": "python",
   "name": "python3"
  },
  "language_info": {
   "codemirror_mode": {
    "name": "ipython",
    "version": 3
   },
   "file_extension": ".py",
   "mimetype": "text/x-python",
   "name": "python",
   "nbconvert_exporter": "python",
   "pygments_lexer": "ipython3",
   "version": "3.11.5"
  }
 },
 "nbformat": 4,
 "nbformat_minor": 2
}
