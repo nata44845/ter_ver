{
 "cells": [
  {
   "cell_type": "code",
   "execution_count": 2,
   "metadata": {},
   "outputs": [],
   "source": [
    "from scipy import stats"
   ]
  },
  {
   "cell_type": "markdown",
   "metadata": {},
   "source": [
    "### Задача 1\n",
    "На препарате А положительный результат лечения наблюдается у 17 из 32 пациентов, а на препарате В у 9 из 22. Построить 95% доверительный интервал для разности долей. Обнаружены ли статистически значимые различия"
   ]
  },
  {
   "cell_type": "code",
   "execution_count": 3,
   "metadata": {},
   "outputs": [
    {
     "name": "stdout",
     "output_type": "stream",
     "text": [
      "-0.14906644200780345 0.3933846238259852\n"
     ]
    }
   ],
   "source": [
    "from scipy import stats\n",
    "m1 = 17\n",
    "m2 = 9\n",
    "n1 = 32\n",
    "n2 = 22\n",
    "p1 = m1 / n1\n",
    "p2 = m2 / n2\n",
    "delta = p1 - p2\n",
    "P = (m1 + m2) / (n1 + n2)\n",
    "se = (P * (1 - P) * (1 / n1 + 1 / n2)) ** 0.5\n",
    "z_tabl = stats.norm.ppf(0.975)\n",
    "print(delta - se * z_tabl, delta + se * z_tabl)\n"
   ]
  },
  {
   "cell_type": "markdown",
   "metadata": {},
   "source": [
    "### Задача 2\n",
    "\n",
    "Решить задачу 1 через тестирование гипотезы.\n",
    "На препарате А положительный результат лечения наблюдается у 17 из 32 пациентов, а на препарате В у 9 из 22. Являются ли различия статистически значимые между долями пациентов с положительным эффектом в этих двух группах.\n",
    "Уровень статистической значимости принять за 0.05"
   ]
  },
  {
   "cell_type": "code",
   "execution_count": 5,
   "metadata": {},
   "outputs": [
    {
     "data": {
      "text/plain": [
       "0.12215909090909088"
      ]
     },
     "execution_count": 5,
     "metadata": {},
     "output_type": "execute_result"
    }
   ],
   "source": [
    "delta"
   ]
  },
  {
   "cell_type": "markdown",
   "metadata": {},
   "source": [
    "### Задача 3\n",
    "\n",
    "Было проведено исследование научных статей на количество авторов в разные годы.\n",
    "Построить 90% и 95% интервалы "
   ]
  },
  {
   "cell_type": "code",
   "execution_count": 7,
   "metadata": {},
   "outputs": [
    {
     "name": "stdout",
     "output_type": "stream",
     "text": [
      "1.8114366123376808 2.188563387662319\n",
      "1.774884346453975 2.225115653546025\n"
     ]
    }
   ],
   "source": [
    "n = 151\n",
    "s = 1.4\n",
    "x = 2\n",
    "\n",
    "se = s/n**0.5 \n",
    "\n",
    "t_90 =stats.t.ppf(0.95,n-1)\n",
    "t_95 =stats.t.ppf(0.975,n-1)\n",
    "\n",
    "print(x - se * t_90, x + se * t_90)\n",
    "print(x - se * t_95, x + se * t_95)"
   ]
  },
  {
   "cell_type": "code",
   "execution_count": 8,
   "metadata": {},
   "outputs": [
    {
     "name": "stdout",
     "output_type": "stream",
     "text": [
      "2.0830392705975154 2.5169607294024843\n",
      "2.0409755799015104 2.5590244200984893\n"
     ]
    }
   ],
   "source": [
    "n = 149\n",
    "s = 1.6\n",
    "x = 2.3\n",
    "\n",
    "se = s/n**0.5 \n",
    "\n",
    "t_90 =stats.t.ppf(0.95,n-1)\n",
    "t_95 =stats.t.ppf(0.975,n-1)\n",
    "\n",
    "print(x - se * t_90, x + se * t_90)\n",
    "print(x - se * t_95, x + se * t_95)"
   ]
  },
  {
   "cell_type": "markdown",
   "metadata": {},
   "source": [
    "### Задача 4\n",
    "\n",
    "С помощью 90% доверительного интервала оценить средний вес нормально\n",
    "распределенной популяции, если дисперсия генеральной совокупности 3.6, а среднее\n",
    "арифметичекое по выборке объемом 100 получилось равным 71.2."
   ]
  },
  {
   "cell_type": "code",
   "execution_count": 11,
   "metadata": {},
   "outputs": [
    {
     "name": "stdout",
     "output_type": "stream",
     "text": [
      "70.88791096727466 71.51208903272534\n"
     ]
    }
   ],
   "source": [
    "x = 71.2\n",
    "s = 3.6 ** 0.5\n",
    "n = 100\n",
    "se = s / n ** 0.5\n",
    "z_tabl = stats.norm.ppf(0.95)\n",
    "print(x - se * z_tabl, x + se * z_tabl)"
   ]
  },
  {
   "cell_type": "markdown",
   "metadata": {},
   "source": [
    "### Задача 5\n",
    "Найдите 95% доверительные интервалы для долей больных, которые не чувствовали боли\n",
    "при включенном и выключенном приборе. Можно ли по этим интервалам оценить\n",
    "статистическую значимость различий?"
   ]
  },
  {
   "cell_type": "code",
   "execution_count": 12,
   "metadata": {},
   "outputs": [
    {
     "name": "stdout",
     "output_type": "stream",
     "text": [
      "0.6568644685026275 0.9431355314973726\n"
     ]
    }
   ],
   "source": [
    "m = 24\n",
    "n = 30\n",
    "p = m/n\n",
    "\n",
    "se = (p*(1-p)/n)**0.5\n",
    "\n",
    "z_tabl = stats.norm.ppf(0.975)\n",
    "\n",
    "print(p - se * z_tabl, p + se * z_tabl)"
   ]
  },
  {
   "cell_type": "markdown",
   "metadata": {},
   "source": [
    "### Задача 6\n",
    "\n",
    "Даны две группы студентов. В каждой по 21 человеку. Первая группа прошла недельную подготовку для сдачи тестов, другая группа приступила к тестам без подготовки.\n",
    "В 1й группе среднее время прохождения теста целиком требует 1.8 ч, во второй 2.3 ч.\n",
    "Постройте 95% интервал для разности средних арифметических, если известно, что\n",
    "стандартное отклонение 1 группы составило 0.4 ч, во 2й группе -0.6ч"
   ]
  },
  {
   "cell_type": "code",
   "execution_count": 13,
   "metadata": {},
   "outputs": [
    {
     "name": "stdout",
     "output_type": "stream",
     "text": [
      "-0.8180347215208597 -0.18196527847913985\n"
     ]
    }
   ],
   "source": [
    "x1 = 1.8\n",
    "x2 = 2.3\n",
    "delta = x1 - x2\n",
    "s1 = 0.4\n",
    "s2 = 0.6\n",
    "D = (s1 ** 2 + s2 ** 2) / 2\n",
    "n1 = n2 = 21\n",
    "se = (D / n1 + D / n2) ** 0.5\n",
    "t_tabl = stats.t.ppf(0.975, n1 + n2 - 2)\n",
    "print(delta - t_tabl * se, delta + se * t_tabl)"
   ]
  }
 ],
 "metadata": {
  "kernelspec": {
   "display_name": "base",
   "language": "python",
   "name": "python3"
  },
  "language_info": {
   "codemirror_mode": {
    "name": "ipython",
    "version": 3
   },
   "file_extension": ".py",
   "mimetype": "text/x-python",
   "name": "python",
   "nbconvert_exporter": "python",
   "pygments_lexer": "ipython3",
   "version": "3.11.5"
  }
 },
 "nbformat": 4,
 "nbformat_minor": 2
}
