{
 "cells": [
  {
   "cell_type": "markdown",
   "metadata": {},
   "source": [
    "## Урок 8. Корреляционный анализ"
   ]
  },
  {
   "cell_type": "markdown",
   "metadata": {},
   "source": [
    "### Задание 1\n",
    "Даны значения величины заработной платы заемщиков банка (zp) и значения их поведенческого кредитного скоринга (ks): zp = [35, 45, 190, 200, 40, 70, 54, 150, 120, 110], ks = [401, 574, 874, 919, 459, 739, 653, 902, 746, 832]. Найдите ковариацию этих двух величин с помощью элементарных действий, а затем с помощью функции cov из numpy Полученные значения должны быть равны. Найдите коэффициент корреляции Пирсона с помощью ковариации и среднеквадратичных отклонений двух признаков, а затем с использованием функций из библиотек numpy и pandas."
   ]
  },
  {
   "cell_type": "code",
   "execution_count": 12,
   "metadata": {},
   "outputs": [
    {
     "name": "stdout",
     "output_type": "stream",
     "text": [
      "9157.839999999997 9157.840000000002\n",
      "0.8874900920739158 0.8874900920739163\n",
      "0.8874900920739163\n"
     ]
    },
    {
     "data": {
      "image/png": "[encoded data removed]",
      "text/plain": [
       "<Figure size 640x480 with 1 Axes>"
      ]
     },
     "metadata": {},
     "output_type": "display_data"
    }
   ],
   "source": [
    "import numpy as np\n",
    "import matplotlib.pyplot as plt\n",
    "\n",
    "zp = np.array([35, 45, 190, 200, 40, 70, 54, 150, 120, 110])\n",
    "ks = np.array([401, 574, 874, 919, 459, 739, 653, 902, 746, 832])\n",
    "\n",
    "\n",
    "cov = np.mean(zp*ks) - np.mean(zp)*np.mean(ks)\n",
    "print(cov,np.cov(zp, ks, ddof=0)[0, 1])\n",
    "\n",
    "cov_p = cov/(np.std(zp)*np.std(ks))\n",
    "print(cov_p, np.cov(zp,ks,ddof=0)[0][1]/(np.std(zp,ddof=0)*np.std(ks,ddof=0)))\n",
    "\n",
    "print(np.corrcoef(zp, ks)[0][1])\n",
    "\n",
    "plt.scatter(zp, ks)\n",
    "plt.title(f'r = {round(np.corrcoef(zp, ks)[0][1], 4)}')\n",
    "plt.xlabel('zp')\n",
    "plt.ylabel('ks')\n",
    "plt.show()\n"
   ]
  },
  {
   "cell_type": "markdown",
   "metadata": {},
   "source": [
    "### Задание 2\n",
    "Измерены значения IQ выборки студентов, обучающихся в местных технических вузах: 131, 125, 115, 122, 131, 115, 107, 99, 125, 111. Известно, что в генеральной совокупности IQ распределен нормально. Найдите доверительный интервал для математического ожидания с надежностью 0.95."
   ]
  },
  {
   "cell_type": "code",
   "execution_count": 16,
   "metadata": {},
   "outputs": [
    {
     "name": "stdout",
     "output_type": "stream",
     "text": [
      "[110.56;125.64]\n"
     ]
    }
   ],
   "source": [
    "from scipy import stats\n",
    "\n",
    "x = np.array([131, 125, 115, 122, 131, 115, 107, 99, 125, 111])\n",
    "\n",
    "n=len(x)\n",
    "m = np.mean(x)\n",
    "s = np.std(x,ddof=1)\n",
    "a = 0.05\n",
    "\n",
    "z = abs(stats.t.ppf(a/2,n-1))\n",
    "\n",
    "print(f'[{round(m-z*s/n**0.5,2)};{round(m+z*s/n**0.5,2)}]')\n"
   ]
  },
  {
   "cell_type": "markdown",
   "metadata": {},
   "source": [
    "### Задание 3\n",
    "Известно, что рост футболистов в сборной распределен нормально с дисперсией генеральной совокупности, равной 25 кв.см. Объем выборки равен 27, среднее выборочное составляет 174.2. Найдите доверительный интервал для математического ожидания с надежностью 0.95."
   ]
  },
  {
   "cell_type": "code",
   "execution_count": 21,
   "metadata": {},
   "outputs": [
    {
     "name": "stdout",
     "output_type": "stream",
     "text": [
      "[172.31;176.09]\n"
     ]
    }
   ],
   "source": [
    "D=25\n",
    "s=D**0.5\n",
    "n=27\n",
    "m=174.2\n",
    "a=1-0.95\n",
    "\n",
    "z = abs(stats.norm.ppf(1-a/2))\n",
    "\n",
    "print(f'[{round(m-z*s/n**0.5,2)};{round(m+z*s/n**0.5,2)}]')"
   ]
  }
 ],
 "metadata": {
  "kernelspec": {
   "display_name": "base",
   "language": "python",
   "name": "python3"
  },
  "language_info": {
   "codemirror_mode": {
    "name": "ipython",
    "version": 3
   },
   "file_extension": ".py",
   "mimetype": "text/x-python",
   "name": "python",
   "nbconvert_exporter": "python",
   "pygments_lexer": "ipython3",
   "version": "3.11.5"
  }
 },
 "nbformat": 4,
 "nbformat_minor": 2
}
