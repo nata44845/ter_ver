{
 "cells": [
  {
   "cell_type": "code",
   "execution_count": null,
   "metadata": {},
   "outputs": [],
   "source": [
    "import numpy as np"
   ]
  },
  {
   "cell_type": "markdown",
   "metadata": {},
   "source": [
    "### Задание 1.\n",
    "\n",
    "Даны значения зарплат из выборки выпускников: 100, 80, 75, 77, 89, 33, 45, 25, 65, 17, 30, 24, 57, 55, 70, 75, 65, 84, 90, 150. Посчитать (желательно без использования статистических методов наподобие std, var, mean) среднее арифметическое, среднее квадратичное отклонение, смещенную и несмещенную оценки дисперсий для данной выборки."
   ]
  },
  {
   "cell_type": "markdown",
   "metadata": {},
   "source": [
    "Матожидание"
   ]
  },
  {
   "cell_type": "code",
   "execution_count": 24,
   "metadata": {},
   "outputs": [
    {
     "data": {
      "text/plain": [
       "65.3"
      ]
     },
     "execution_count": 24,
     "metadata": {},
     "output_type": "execute_result"
    }
   ],
   "source": [
    "l = np.array([100, 80, 75, 77, 89, 33, 45, 25, 65, 17, 30, 24, 57, 55, 70, 75, 65, 84, 90, 150])\n",
    "n=len(l)\n",
    "m=sum(l)/n\n",
    "m"
   ]
  },
  {
   "cell_type": "code",
   "execution_count": 15,
   "metadata": {},
   "outputs": [
    {
     "data": {
      "text/plain": [
       "65.3"
      ]
     },
     "execution_count": 15,
     "metadata": {},
     "output_type": "execute_result"
    }
   ],
   "source": [
    "np.mean(l)"
   ]
  },
  {
   "cell_type": "markdown",
   "metadata": {},
   "source": [
    "Дисперсия смещенная"
   ]
  },
  {
   "cell_type": "code",
   "execution_count": 19,
   "metadata": {},
   "outputs": [
    {
     "data": {
      "text/plain": [
       "950.11"
      ]
     },
     "execution_count": 19,
     "metadata": {},
     "output_type": "execute_result"
    }
   ],
   "source": [
    "D = 0\n",
    "for x in l:\n",
    "    D+=(x-m)**2\n",
    "D=D/n\n",
    "D"
   ]
  },
  {
   "cell_type": "code",
   "execution_count": 14,
   "metadata": {},
   "outputs": [
    {
     "data": {
      "text/plain": [
       "950.11"
      ]
     },
     "execution_count": 14,
     "metadata": {},
     "output_type": "execute_result"
    }
   ],
   "source": [
    "np.var(l)"
   ]
  },
  {
   "cell_type": "markdown",
   "metadata": {},
   "source": [
    "СКО"
   ]
  },
  {
   "cell_type": "code",
   "execution_count": 20,
   "metadata": {},
   "outputs": [
    {
     "data": {
      "text/plain": [
       "30.823854398825596"
      ]
     },
     "execution_count": 20,
     "metadata": {},
     "output_type": "execute_result"
    }
   ],
   "source": [
    "D**0.5"
   ]
  },
  {
   "cell_type": "code",
   "execution_count": 16,
   "metadata": {},
   "outputs": [
    {
     "data": {
      "text/plain": [
       "30.823854398825596"
      ]
     },
     "execution_count": 16,
     "metadata": {},
     "output_type": "execute_result"
    }
   ],
   "source": [
    "np.std(l)"
   ]
  },
  {
   "cell_type": "markdown",
   "metadata": {},
   "source": [
    "Дисперсия несмещенная"
   ]
  },
  {
   "cell_type": "code",
   "execution_count": 21,
   "metadata": {},
   "outputs": [
    {
     "data": {
      "text/plain": [
       "1000.1157894736842"
      ]
     },
     "execution_count": 21,
     "metadata": {},
     "output_type": "execute_result"
    }
   ],
   "source": [
    "D1 = 0\n",
    "for x in l:\n",
    "    D1+=(x-m)**2\n",
    "D1=D1/(n-1)\n",
    "D1"
   ]
  },
  {
   "cell_type": "code",
   "execution_count": 23,
   "metadata": {},
   "outputs": [
    {
     "data": {
      "text/plain": [
       "1000.1157894736842"
      ]
     },
     "execution_count": 23,
     "metadata": {},
     "output_type": "execute_result"
    }
   ],
   "source": [
    "np.var(l,ddof=1)"
   ]
  },
  {
   "cell_type": "markdown",
   "metadata": {},
   "source": [
    "### Задание 2.\n",
    "\n",
    "В первом ящике находится 8 мячей, из которых 5 - белые. Во втором ящике - 12 мячей, из которых 5 белых. Из первого ящика вытаскивают случайным образом два мяча, из второго - 4. Какова вероятность того, что 3 мяча белые?"
   ]
  },
  {
   "cell_type": "code",
   "execution_count": 1,
   "metadata": {},
   "outputs": [],
   "source": [
    "from math import factorial\n",
    "def combinations(n, k):\n",
    "    return factorial(n) / (factorial(n - k) * factorial(k))"
   ]
  },
  {
   "cell_type": "code",
   "execution_count": 2,
   "metadata": {},
   "outputs": [
    {
     "data": {
      "text/plain": [
       "0.3686868686868687"
      ]
     },
     "execution_count": 2,
     "metadata": {},
     "output_type": "execute_result"
    }
   ],
   "source": [
    "# 8=5+3\n",
    "# 12=5+7\n",
    "# Из первого 0 белых\n",
    "P1 = combinations(5,0)*combinations(3,2)*combinations(5,3)*combinations(7,1)\n",
    "# Из перого 1 белый\n",
    "P2 = combinations(5,1)*combinations(3,1)*combinations(5,2)*combinations(7,2)\n",
    "# Из первого 2 белых\n",
    "P3 = combinations(5,2)*combinations(3,0)*combinations(5,1)*combinations(7,3)\n",
    "P=(P1+P2+P3)/(combinations(8,2)*combinations(12,4))\n",
    "P"
   ]
  },
  {
   "cell_type": "code",
   "execution_count": 7,
   "metadata": {},
   "outputs": [
    {
     "name": "stdout",
     "output_type": "stream",
     "text": [
      "[1, 0, 1, 0, 0, 0, 1, 0]\n",
      "[1, 1, 1, 0, 0, 0, 1, 0, 1, 1, 1, 0]\n",
      "0.36849\n"
     ]
    }
   ],
   "source": [
    "import random\n",
    "n1=8\n",
    "n2=12\n",
    "b1=5\n",
    "b2=5\n",
    "n=100000\n",
    "m=0\n",
    "\n",
    "for i in range(n):\n",
    "\n",
    "    p1=[1]*n1\n",
    "    p2=[1]*n2\n",
    "    \n",
    "    count=0\n",
    "    while count<b1:\n",
    "        i = random.randrange(n1)\n",
    "        if (p1[i]==1):\n",
    "            p1[i]=0\n",
    "            count+=1\n",
    "    \n",
    "    count=0\n",
    "    while count<b2:\n",
    "        i = random.randrange(n2)\n",
    "        if (p2[i]==1):\n",
    "            p2[i]=0\n",
    "            count+=1\n",
    "\n",
    "    sum = p1[0]+p1[1]+p2[0]+p2[1]+p2[2]+p2[3]\n",
    "    if sum==3:\n",
    "        m+=1\n",
    "\n",
    "print(p1)\n",
    "print(p2)\n",
    "print(m/n)"
   ]
  },
  {
   "cell_type": "markdown",
   "metadata": {},
   "source": [
    "### Задание 3.\n",
    "\n",
    "На соревновании по биатлону один из трех спортсменов стреляет и попадает в мишень. Вероятность попадания для первого спортсмена равна 0.9, для второго — 0.8, для третьего — 0.6. Найти вероятность того, что выстрел произведен: a). первым спортсменом б). вторым спортсменом в). третьим спортсменом."
   ]
  },
  {
   "cell_type": "code",
   "execution_count": 12,
   "metadata": {},
   "outputs": [
    {
     "data": {
      "text/plain": [
       "0.7666666666666666"
      ]
     },
     "execution_count": 12,
     "metadata": {},
     "output_type": "execute_result"
    }
   ],
   "source": [
    "# P(B|A) = P(A|B)*P(B)/P(A)\n",
    "# B1,B2,B3 стрелок \n",
    "# A попал\n",
    "\n",
    "p1, p2, p3 = 0.9, 0.8, 0.6\n",
    "# 𝑃(𝐵1) = 𝑃(𝐵2) = 𝑃(𝐵3) = 1/3\n",
    "P_B = 1/3\n",
    "\n",
    "# 𝑃(𝐴) = 𝑃(𝐴|𝐵1) ∗ 𝑃(𝐵1)+𝑃(𝐴|𝐵2) ∗ 𝑃(𝐵2)+𝑃(𝐴|𝐵3) ∗ 𝑃(𝐵3)\n",
    "𝑃_A = p1*P_B+p2*P_B+p3*P_B\n"
   ]
  },
  {
   "cell_type": "code",
   "execution_count": 14,
   "metadata": {},
   "outputs": [
    {
     "data": {
      "text/plain": [
       "0.391304347826087"
      ]
     },
     "execution_count": 14,
     "metadata": {},
     "output_type": "execute_result"
    }
   ],
   "source": [
    "𝑃_𝐵1𝐴 = p1*𝑃_B/P_A\n",
    "P_B1A"
   ]
  },
  {
   "cell_type": "code",
   "execution_count": 15,
   "metadata": {},
   "outputs": [
    {
     "data": {
      "text/plain": [
       "0.3478260869565218"
      ]
     },
     "execution_count": 15,
     "metadata": {},
     "output_type": "execute_result"
    }
   ],
   "source": [
    "𝑃_𝐵2𝐴 = p2*𝑃_B/P_A\n",
    "P_B2A"
   ]
  },
  {
   "cell_type": "code",
   "execution_count": 16,
   "metadata": {},
   "outputs": [
    {
     "data": {
      "text/plain": [
       "0.2608695652173913"
      ]
     },
     "execution_count": 16,
     "metadata": {},
     "output_type": "execute_result"
    }
   ],
   "source": [
    "𝑃_𝐵3𝐴 = p3*𝑃_B/P_A\n",
    "P_B3A"
   ]
  },
  {
   "cell_type": "markdown",
   "metadata": {},
   "source": [
    "### Задание 4.\n",
    "\n",
    "В университет на факультеты A и B поступило равное количество студентов, а на факультет C студентов поступило столько же, сколько на A и B вместе. Вероятность того, что студент факультета A сдаст первую сессию, равна 0.8. Для студента факультета B эта вероятность равна 0.7, а для студента факультета C - 0.9. Студент сдал первую сессию. Какова вероятность, что он учится: a). на факультете A б). на факультете B в). на факультете C?"
   ]
  },
  {
   "cell_type": "code",
   "execution_count": 21,
   "metadata": {},
   "outputs": [
    {
     "data": {
      "text/plain": [
       "0.825"
      ]
     },
     "execution_count": 21,
     "metadata": {},
     "output_type": "execute_result"
    }
   ],
   "source": [
    "# P(B|A) = P(A|B)*P(B)/P(A)\n",
    "# B1,B2,B3 факультет \n",
    "# A сдал\n",
    "\n",
    "p1, p2, p3 = 0.8, 0.7, 0.9\n",
    "# 𝑃(𝐵1) = 𝑃(𝐵2) = 𝑃(𝐵3) = 1/3\n",
    "P_B1 = P_B2 = 1/4\n",
    "P_B3 = 1/2\n",
    "# 𝑃(𝐴) = 𝑃(𝐴|𝐵1) ∗ 𝑃(𝐵1)+𝑃(𝐴|𝐵2) ∗ 𝑃(𝐵2)+𝑃(𝐴|𝐵3) ∗ 𝑃(𝐵3)\n",
    "𝑃_A = p1*P_B1+p2*P_B2+p3*P_B3\n",
    "P_A"
   ]
  },
  {
   "cell_type": "code",
   "execution_count": 22,
   "metadata": {},
   "outputs": [
    {
     "data": {
      "text/plain": [
       "0.24242424242424246"
      ]
     },
     "execution_count": 22,
     "metadata": {},
     "output_type": "execute_result"
    }
   ],
   "source": [
    "𝑃_𝐵1𝐴 = p1*𝑃_B1/P_A\n",
    "P_B1A"
   ]
  },
  {
   "cell_type": "code",
   "execution_count": 23,
   "metadata": {},
   "outputs": [
    {
     "data": {
      "text/plain": [
       "0.21212121212121213"
      ]
     },
     "execution_count": 23,
     "metadata": {},
     "output_type": "execute_result"
    }
   ],
   "source": [
    "𝑃_𝐵2𝐴 = p2*𝑃_B2/P_A\n",
    "P_B2A"
   ]
  },
  {
   "cell_type": "code",
   "execution_count": 24,
   "metadata": {},
   "outputs": [
    {
     "data": {
      "text/plain": [
       "0.5454545454545455"
      ]
     },
     "execution_count": 24,
     "metadata": {},
     "output_type": "execute_result"
    }
   ],
   "source": [
    "𝑃_𝐵3𝐴 = p3*𝑃_B3/P_A\n",
    "P_B3A"
   ]
  },
  {
   "cell_type": "markdown",
   "metadata": {},
   "source": [
    "### Задание 5.\n",
    "\n",
    "Устройство состоит из трех деталей. Для первой детали вероятность выйти из строя в первый месяц равна 0.1, для второй - 0.2, для третьей - 0.25. Какова вероятность того, что в первый месяц выйдут из строя: \n",
    "* а). все детали \n",
    "* б). только две детали \n",
    "* в). хотя бы одна деталь \n",
    "* г). от одной до двух деталей?"
   ]
  },
  {
   "cell_type": "code",
   "execution_count": 70,
   "metadata": {},
   "outputs": [],
   "source": [
    "p1, p2, p3 = 0.1, 0.2, 0.25\n",
    "q1 = 1-p1\n",
    "q2 = 1-p2\n",
    "q3 = 1-p3"
   ]
  },
  {
   "cell_type": "code",
   "execution_count": 51,
   "metadata": {},
   "outputs": [
    {
     "data": {
      "text/plain": [
       "0.005000000000000001"
      ]
     },
     "execution_count": 51,
     "metadata": {},
     "output_type": "execute_result"
    }
   ],
   "source": [
    "# Все детали\n",
    "P = p1*p2*p3\n",
    "P"
   ]
  },
  {
   "cell_type": "code",
   "execution_count": 52,
   "metadata": {},
   "outputs": [
    {
     "data": {
      "text/plain": [
       "0.08000000000000002"
      ]
     },
     "execution_count": 52,
     "metadata": {},
     "output_type": "execute_result"
    }
   ],
   "source": [
    "# Только две детали\n",
    "P = p1*p2*q3+p1*p3*q2+p2*p3*q1\n",
    "P"
   ]
  },
  {
   "cell_type": "code",
   "execution_count": 29,
   "metadata": {},
   "outputs": [
    {
     "data": {
      "text/plain": [
       "0.45999999999999996"
      ]
     },
     "execution_count": 29,
     "metadata": {},
     "output_type": "execute_result"
    }
   ],
   "source": [
    "# Хотя бы одна деталь\n",
    "P = 1 - q1*q2*q3\n",
    "P"
   ]
  },
  {
   "cell_type": "code",
   "execution_count": 72,
   "metadata": {},
   "outputs": [
    {
     "data": {
      "text/plain": [
       "0.455"
      ]
     },
     "execution_count": 72,
     "metadata": {},
     "output_type": "execute_result"
    }
   ],
   "source": [
    "# От одной до двух деталей\n",
    "P = (p1*p2*q3+p1*p3*q2+p2*p3*q1) + (p1*q2*q3+p2*q1*q3+p3*q1*q2)\n",
    "P"
   ]
  },
  {
   "cell_type": "code",
   "execution_count": 73,
   "metadata": {},
   "outputs": [
    {
     "name": "stdout",
     "output_type": "stream",
     "text": [
      "0.45398\n"
     ]
    }
   ],
   "source": [
    "import random\n",
    "n1 = 100\n",
    "b1 = 10\n",
    "b2 = 20\n",
    "b3 = 25\n",
    "\n",
    "n=100000\n",
    "m=0\n",
    "\n",
    "for i in range(n):\n",
    "\n",
    "    p1=[1]*n1\n",
    "    p2=[1]*n1\n",
    "    p3=[1]*n1\n",
    "\n",
    "    \n",
    "    count=0\n",
    "    while count<b1:\n",
    "        i = random.randrange(n1)\n",
    "        if (p1[i]==1):\n",
    "            p1[i]=0\n",
    "            count+=1\n",
    "    \n",
    "    count=0\n",
    "    while count<b2:\n",
    "        i = random.randrange(n1)\n",
    "        if (p2[i]==1):\n",
    "            p2[i]=0\n",
    "            count+=1\n",
    "\n",
    "    count=0\n",
    "    while count<b3:\n",
    "        i = random.randrange(n1)\n",
    "        if (p3[i]==1):\n",
    "            p3[i]=0\n",
    "            count+=1\n",
    "\n",
    "            \n",
    "    sum = p1[0]+p2[0]+p3[0]\n",
    "\n",
    "    if sum==2 or sum==1:\n",
    "        m+=1\n",
    "\n",
    "print(m/n)"
   ]
  }
 ],
 "metadata": {
  "kernelspec": {
   "display_name": "base",
   "language": "python",
   "name": "python3"
  },
  "language_info": {
   "codemirror_mode": {
    "name": "ipython",
    "version": 3
   },
   "file_extension": ".py",
   "mimetype": "text/x-python",
   "name": "python",
   "nbconvert_exporter": "python",
   "pygments_lexer": "ipython3",
   "version": "3.11.5"
  }
 },
 "nbformat": 4,
 "nbformat_minor": 2
}
