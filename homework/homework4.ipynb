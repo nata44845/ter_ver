{
 "cells": [
  {
   "cell_type": "markdown",
   "metadata": {},
   "source": [
    "### Задание 1.\n",
    "\n",
    "Случайная непрерывная величина A имеет равномерное распределение на промежутке (200, 800]. Найдите ее среднее значение и дисперсию."
   ]
  },
  {
   "cell_type": "code",
   "execution_count": 2,
   "metadata": {},
   "outputs": [
    {
     "name": "stdout",
     "output_type": "stream",
     "text": [
      "Математическое ожидание M(A) = 500.0\n",
      "Дисперсия D(A) = 30000.0\n"
     ]
    }
   ],
   "source": [
    "a = 200\n",
    "b = 800\n",
    "\n",
    "m = (a + b)/2\n",
    "d = round((b-a)**2/12,2)\n",
    "\n",
    "print(f'Математическое ожидание M(A) = {m}\\n'\n",
    "      f'Дисперсия D(A) = {d}')"
   ]
  },
  {
   "cell_type": "markdown",
   "metadata": {},
   "source": [
    "### Задание 2.\n",
    "\n",
    "О случайной непрерывной равномерно распределенной величине B известно, что ее дисперсия равна 0.2. Можно ли найти правую границу величины B и ее среднее значение зная, что левая граница равна 0.5? Если да, найдите ее.\n"
   ]
  },
  {
   "cell_type": "code",
   "execution_count": 9,
   "metadata": {},
   "outputs": [
    {
     "name": "stdout",
     "output_type": "stream",
     "text": [
      "Правая граница b = 2.05\n",
      "Математическое ожидание M(A) = 1.275\n",
      "\n"
     ]
    }
   ],
   "source": [
    "D = 0.2\n",
    "a = 0.5\n",
    "# D=(b-a)**2/12\n",
    "b = round((D*12)**0.5+a,2)\n",
    "b\n",
    "\n",
    "m = (b+a)/2\n",
    "\n",
    "print(f'Правая граница b = {b}\\n'\n",
    "      f'Математическое ожидание M(A) = {m}\\n')"
   ]
  },
  {
   "cell_type": "markdown",
   "metadata": {},
   "source": [
    "### Задание 3.\n",
    "\n",
    "Непрерывная случайная величина X распределена нормально и задана плотностью распределения `f(x) = (1 / (4 * sqrt(2pi))) * exp((-(x+2)**2) / 32)`\n",
    "\n",
    "Найдите:\n",
    "\n",
    "а). M(X)\n",
    "\n",
    "б). D(X)\n",
    "\n",
    "в). std(X) (среднее квадратичное отклонение)"
   ]
  },
  {
   "cell_type": "code",
   "execution_count": null,
   "metadata": {},
   "outputs": [],
   "source": [
    "# M(x) = -2\n",
    "# std(x) = 4\n",
    "# D(x) = 16"
   ]
  },
  {
   "cell_type": "markdown",
   "metadata": {},
   "source": [
    "### Задание 4.\n",
    "\n",
    "Рост взрослого населения города X имеет нормальное распределение.\n",
    "\n",
    "Причем, средний рост равен 174 см, а среднее квадратичное отклонение равно 8 см.\n",
    "\n",
    "Какова вероятность того, что случайным образом выбранный взрослый человек имеет рост:\n",
    "\n",
    "а). больше 182 см\n",
    "\n",
    "б). больше 190 см\n",
    "\n",
    "в). от 166 см до 190 см\n",
    "\n",
    "г). от 166 см до 182 см\n",
    "\n",
    "д). от 158 см до 190 см\n",
    "\n",
    "е). не выше 150 см или не ниже 190 см\n",
    "\n",
    "ё). не выше 150 см или не ниже 198 см\n",
    "\n",
    "ж). ниже 166 см.\n"
   ]
  },
  {
   "cell_type": "code",
   "execution_count": 15,
   "metadata": {},
   "outputs": [],
   "source": [
    "from scipy import stats\n",
    "m = 174\n",
    "sko = 8"
   ]
  },
  {
   "cell_type": "code",
   "execution_count": 69,
   "metadata": {},
   "outputs": [
    {
     "name": "stdout",
     "output_type": "stream",
     "text": [
      "z = 1.0\n",
      "По таблице для z=1.0 p = 0.8413 \n",
      "1-p= 0.15869999999999995\n",
      "По формуле 0.15865525393145707\n"
     ]
    }
   ],
   "source": [
    "# а). больше 182 см\n",
    "x = 182\n",
    "z=(x-m)/sko\n",
    "print(f'z = {z}')\n",
    "p=0.8413\n",
    "print(f'По таблице для z={z} p =',p, '\\n1-p=', 1-p)\n",
    "\n",
    "k = 1-stats.norm.cdf(x, m, sko)\n",
    "print(f'По формуле {k}')"
   ]
  },
  {
   "cell_type": "code",
   "execution_count": 50,
   "metadata": {},
   "outputs": [
    {
     "name": "stdout",
     "output_type": "stream",
     "text": [
      "Z = 2.0\n",
      "По таблице для z=2.0 p = 0.9772 \n",
      "1-p= 0.022800000000000042\n",
      "По формуле 0.02275013194817921\n"
     ]
    }
   ],
   "source": [
    "# б). больше 190 см\n",
    "x = 190\n",
    "Z=(x-m)/sko\n",
    "print(f'Z = {Z}')\n",
    "p=0.9772\n",
    "print(f'По таблице для z={Z} p =',p, '\\n1-p=', 1-p)\n",
    "\n",
    "k = 1-stats.norm.cdf(x, m, sko)\n",
    "print(f'По формуле {k}')"
   ]
  },
  {
   "cell_type": "code",
   "execution_count": 55,
   "metadata": {},
   "outputs": [
    {
     "name": "stdout",
     "output_type": "stream",
     "text": [
      "z1 = -1.0\n",
      "z2 = 2.0\n",
      "По таблице для z1=-1.0 p1 =0.1587, z2=2.0 p2=0.9772\n",
      "p2-p1= 0.8185\n",
      "По формуле 0.8185946141203637\n"
     ]
    }
   ],
   "source": [
    "# в). от 166 см до 190 см\n",
    "x1 = 166\n",
    "x2 = 190\n",
    "z1=(x1-m)/sko\n",
    "z2=(x2-m)/sko\n",
    "print(f'z1 = {z1}')\n",
    "print(f'z2 = {z2}')\n",
    "p1 = 0.1587\n",
    "p2 = 0.9772\n",
    "print(f'По таблице для z1={z1} p1 ={p1}, z2={z2} p2={p2}\\np2-p1=', p2-p1)\n",
    "\n",
    "\n",
    "k = stats.norm.cdf(x2, m, sko)-stats.norm.cdf(x1, m, sko)\n",
    "print(f'По формуле {k}')\n"
   ]
  },
  {
   "cell_type": "code",
   "execution_count": 58,
   "metadata": {},
   "outputs": [
    {
     "name": "stdout",
     "output_type": "stream",
     "text": [
      "z1 = -1.0\n",
      "z2 = 1.0\n",
      "По таблице для z1=-1.0 p1 =0.1587, z2=1.0 p2=0.8413\n",
      "p2-p1= 0.6826000000000001\n",
      "По формуле 0.6826894921370859\n"
     ]
    }
   ],
   "source": [
    "# г). от 166 см до 182 см\n",
    "x1 = 166\n",
    "x2 = 182\n",
    "z1=(x1-m)/sko\n",
    "z2=(x2-m)/sko\n",
    "print(f'z1 = {z1}')\n",
    "print(f'z2 = {z2}')\n",
    "p1 = 0.1587\n",
    "p2 = 0.8413\n",
    "print(f'По таблице для z1={z1} p1 ={p1}, z2={z2} p2={p2}\\np2-p1=', p2-p1)\n",
    "\n",
    "\n",
    "k = stats.norm.cdf(x2, m, sko)-stats.norm.cdf(x1, m, sko)\n",
    "print(f'По формуле {k}')"
   ]
  },
  {
   "cell_type": "code",
   "execution_count": 60,
   "metadata": {},
   "outputs": [
    {
     "name": "stdout",
     "output_type": "stream",
     "text": [
      "z1 = -2.0\n",
      "z2 = 2.0\n",
      "По таблице для z1=-2.0 p1 =0.0228, z2=2.0 p2=0.9772\n",
      "p2-p1= 0.9543999999999999\n",
      "По формуле 0.9544997361036416\n"
     ]
    }
   ],
   "source": [
    "# д). от 158 см до 190 см\n",
    "x1 = 158\n",
    "x2 = 190\n",
    "z1=(x1-m)/sko\n",
    "z2=(x2-m)/sko\n",
    "print(f'z1 = {z1}')\n",
    "print(f'z2 = {z2}')\n",
    "p1 = 0.0228\n",
    "p2 = 0.9772\n",
    "print(f'По таблице для z1={z1} p1 ={p1}, z2={z2} p2={p2}\\np2-p1=', p2-p1)\n",
    "\n",
    "\n",
    "k = stats.norm.cdf(x2, m, sko)-stats.norm.cdf(x1, m, sko)\n",
    "print(f'По формуле {k}')"
   ]
  },
  {
   "cell_type": "code",
   "execution_count": 63,
   "metadata": {},
   "outputs": [
    {
     "name": "stdout",
     "output_type": "stream",
     "text": [
      "z1 = -3.0\n",
      "z2 = 2.0\n",
      "По таблице для z1=-3.0 p1 =0.0013, z2=2.0 p2=0.9772\n",
      "p1+1-p2 0.02410000000000012\n",
      "По формуле 0.0241000299798092\n"
     ]
    }
   ],
   "source": [
    "# е). не выше 150 см или не ниже 190 см\n",
    "x1 = 150\n",
    "x2 = 190\n",
    "z1=(x1-m)/sko\n",
    "z2=(x2-m)/sko\n",
    "print(f'z1 = {z1}')\n",
    "print(f'z2 = {z2}')\n",
    "p1 = 0.0013\n",
    "p2 = 0.9772\n",
    "print(f'По таблице для z1={z1} p1 ={p1}, z2={z2} p2={p2}\\np1+1-p2', p1+1-p2)\n",
    "\n",
    "\n",
    "k = stats.norm.cdf(x1, m, sko)+1-stats.norm.cdf(x2, m, sko)\n",
    "print(f'По формуле {k}')"
   ]
  },
  {
   "cell_type": "code",
   "execution_count": 67,
   "metadata": {},
   "outputs": [
    {
     "name": "stdout",
     "output_type": "stream",
     "text": [
      "z1 = -3.0\n",
      "z2 = 3.0\n",
      "По таблице для z1=-3.0 p1 =0.0013, z2=3.0 p2=0.9987\n",
      "p1+1-p2 = 0.0026000000000000467\n",
      "По формуле 0.002699796063260096\n"
     ]
    }
   ],
   "source": [
    "# ё). не выше 150 см или не ниже 198 см\n",
    "x1 = 150\n",
    "x2 = 198\n",
    "z1=(x1-m)/sko\n",
    "z2=(x2-m)/sko\n",
    "print(f'z1 = {z1}')\n",
    "print(f'z2 = {z2}')\n",
    "p1 = 0.0013\n",
    "p2 = 0.9987\n",
    "print(f'По таблице для z1={z1} p1 ={p1}, z2={z2} p2={p2}\\np1+1-p2 =', p1+1-p2)\n",
    "\n",
    "k = stats.norm.cdf(x1, m, sko)+1-stats.norm.cdf(x2, m, sko)\n",
    "print(f'По формуле {k}')"
   ]
  },
  {
   "cell_type": "code",
   "execution_count": 66,
   "metadata": {},
   "outputs": [
    {
     "name": "stdout",
     "output_type": "stream",
     "text": [
      "z = -1.0\n",
      "По таблице для z=-1.0 p =0.1587\n",
      "По формуле 0.15865525393145707\n"
     ]
    }
   ],
   "source": [
    "# ж). ниже 166 см.\n",
    "x = 166\n",
    "z=(x-m)/sko\n",
    "print(f'z = {z}')\n",
    "p = 0.1587\n",
    "print(f'По таблице для z={z} p ={p}')\n",
    "\n",
    "\n",
    "k = stats.norm.cdf(x, m, sko)\n",
    "print(f'По формуле {k}')"
   ]
  },
  {
   "cell_type": "markdown",
   "metadata": {},
   "source": [
    "### Задание 5.\n",
    "\n",
    "На сколько сигм (средних квадратичных отклонений) отклоняется рост человека, равный 190 см, от математического ожидания роста в популяции, в которой M(X) = 178 см и D(X) = 25 кв.см?"
   ]
  },
  {
   "cell_type": "code",
   "execution_count": 73,
   "metadata": {},
   "outputs": [
    {
     "name": "stdout",
     "output_type": "stream",
     "text": [
      "Количество сигм (средних квадратичных отклонений) Z = 2.4 сигм\n"
     ]
    }
   ],
   "source": [
    "x = 190\n",
    "m = 178\n",
    "D = 25\n",
    "sko = D**0.5\n",
    "\n",
    "z = (x-m)/sko\n",
    "print(f'Количество сигм (средних квадратичных отклонений) Z = {z} сигм')"
   ]
  }
 ],
 "metadata": {
  "kernelspec": {
   "display_name": "base",
   "language": "python",
   "name": "python3"
  },
  "language_info": {
   "codemirror_mode": {
    "name": "ipython",
    "version": 3
   },
   "file_extension": ".py",
   "mimetype": "text/x-python",
   "name": "python",
   "nbconvert_exporter": "python",
   "pygments_lexer": "ipython3",
   "version": "3.11.5"
  }
 },
 "nbformat": 4,
 "nbformat_minor": 2
}
