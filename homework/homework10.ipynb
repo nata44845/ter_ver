{
 "cells": [
  {
   "cell_type": "markdown",
   "metadata": {},
   "source": [
    "## Урок 10. Дисперсионный анализ\n",
    "\n",
    "Провести дисперсионный анализ для определения того, есть ли различия среднего роста среди взрослых футболистов, хоккеистов и штангистов. \n",
    "\n",
    "Даны значения роста в трех группах случайно выбранных спортсменов: \n",
    "\n",
    "Футболисты: 173, 175, 180, 178, 177, 185, 183, 182. \n",
    "\n",
    "Хоккеисты: 177, 179, 180, 188, 177, 172, 171, 184, 180. \n",
    "\n",
    "Штангисты: 172, 173, 169, 177, 166, 180, 178, 177, 172, 166, 170. \n",
    "\n",
    "Данная промежуточная аттестация оценивается по системе \"зачет\" / \"не зачет\". \n",
    "\n",
    "\"Зачет\" ставится, если Слушатель успешно выполнил задание. \"Незачет\" ставится, если Слушатель не выполнил задание. \n",
    "\n",
    "Критерии оценивания: 1 - Слушатель провел дисперсионный анализ для определения того, есть ли различия среднего роста среди взрослых футболистов, хоккеистов и штангистов."
   ]
  },
  {
   "cell_type": "code",
   "execution_count": 17,
   "metadata": {},
   "outputs": [
    {
     "name": "stdout",
     "output_type": "stream",
     "text": [
      "Нормальность тест Шапиро-Уилка f True\n",
      "Нормальность тест Шапиро-Уилка h True\n",
      "Нормальность тест Шапиро-Уилка w True\n",
      "Однородность дисперсий Бартлетт f-h-w True\n",
      "Гипотеза 0 (m1=m2=m3) False\n",
      "     Multiple Comparison of Means - Tukey HSD, FWER=0.05      \n",
      "==============================================================\n",
      " group1      group2    meandiff p-adj   lower    upper  reject\n",
      "--------------------------------------------------------------\n",
      "football        hockey  -0.4583  0.979  -6.2732  5.3566  False\n",
      "football weightlifters  -6.3977 0.0219 -11.9583 -0.8372   True\n",
      "  hockey weightlifters  -5.9394 0.0284 -11.3181 -0.5607   True\n",
      "--------------------------------------------------------------\n",
      "Tukey's HSD Pairwise Group Comparisons (95.0% Confidence Interval)\n",
      "Comparison  Statistic  p-value  Lower CI  Upper CI\n",
      " (0 - 1)      0.458     0.979    -5.357     6.273\n",
      " (0 - 2)      6.398     0.022     0.837    11.958\n",
      " (1 - 0)     -0.458     0.979    -6.273     5.357\n",
      " (1 - 2)      5.939     0.028     0.561    11.318\n",
      " (2 - 0)     -6.398     0.022   -11.958    -0.837\n",
      " (2 - 1)     -5.939     0.028   -11.318    -0.561\n",
      "\n"
     ]
    }
   ],
   "source": [
    "import numpy as np\n",
    "import pandas as pd\n",
    "from scipy import stats\n",
    "from statsmodels.stats.multicomp import pairwise_tukeyhsd\n",
    "import pandas as pd\n",
    "\n",
    "f = np.array([173, 175, 180, 178, 177, 185, 183, 182])\n",
    "h = np.array([177, 179, 180, 188, 177, 172, 171, 184, 180])\n",
    "w = np.array([172, 173, 169, 177, 166, 180, 178, 177, 172, 166, 170])\n",
    "\n",
    "\n",
    "print(f'Нормальность тест Шапиро-Уилка f {stats.shapiro(f)[1]>0.05}')\n",
    "print(f'Нормальность тест Шапиро-Уилка h {stats.shapiro(h)[1]>0.05}')\n",
    "print(f'Нормальность тест Шапиро-Уилка w {stats.shapiro(w)[1]>0.05}')\n",
    "\n",
    "print(f'Однородность дисперсий Бартлетт f-h-w {stats.bartlett(f,h,w)[1]>0.05}')\n",
    "\n",
    "print(f'Гипотеза 0 (m1=m2=m3) Крускал-Уоллес {stats.kruskal(f, h, w)[1]>0.05}') \n",
    "\n",
    "df = pd.DataFrame({\"score\": [173, 175, 180, 178, 177, 185, 183, 182, \n",
    "                             177, 179, 180, 188, 177, 172, 171, 184, 180,\n",
    "                             172, 173, 169, 177, 166, 180, 178, 177, 172, 166, 170],\n",
    "                   \"group\": np.repeat([\"football\", \"hockey\", \"weightlifters\"], repeats = [8, 9, 11])})\n",
    "df\n",
    "\n",
    "\n",
    "tukey = pairwise_tukeyhsd(df[\"score\"], df[\"group\"], alpha = 0.05)\n",
    "print(tukey)\n",
    "\n",
    "print(stats.tukey_hsd(f,h,w))"
   ]
  }
 ],
 "metadata": {
  "kernelspec": {
   "display_name": "base",
   "language": "python",
   "name": "python3"
  },
  "language_info": {
   "codemirror_mode": {
    "name": "ipython",
    "version": 3
   },
   "file_extension": ".py",
   "mimetype": "text/x-python",
   "name": "python",
   "nbconvert_exporter": "python",
   "pygments_lexer": "ipython3",
   "version": "0.0.0"
  }
 },
 "nbformat": 4,
 "nbformat_minor": 2
}
