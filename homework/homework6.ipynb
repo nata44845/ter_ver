{
 "cells": [
  {
   "cell_type": "markdown",
   "metadata": {},
   "source": [
    "# Урок 6. Сравнение долей. Построение доверительного интервала"
   ]
  },
  {
   "cell_type": "code",
   "execution_count": 1,
   "metadata": {},
   "outputs": [],
   "source": [
    "import numpy as np\n",
    "from scipy import stats"
   ]
  },
  {
   "cell_type": "markdown",
   "metadata": {},
   "source": [
    "## Задание 1\n",
    "Известно, что генеральная совокупность распределена нормально со средним квадратическим отклонением, равным 16.\n",
    "Найти доверительный интервал для оценки математического ожидания a с надежностью 0.95, если выборочная средняя M = 80, а объем выборки n = 256."
   ]
  },
  {
   "cell_type": "code",
   "execution_count": 5,
   "metadata": {},
   "outputs": [
    {
     "name": "stdout",
     "output_type": "stream",
     "text": [
      "[78.04, 81.96]\n"
     ]
    }
   ],
   "source": [
    "a=0.05\n",
    "s=16\n",
    "x=80\n",
    "n=256\n",
    "se = s / n ** 0.5\n",
    "z_tabl = stats.norm.ppf(1-(a/2))\n",
    "print(f'[{round(x - se * z_tabl,2)}, {round(x + se * z_tabl,2)}]')\n"
   ]
  },
  {
   "cell_type": "markdown",
   "metadata": {},
   "source": [
    "## Задание 2\n",
    "В результате 10 независимых измерений некоторой величины X, выполненных с одинаковой точностью, получены опытные данные:\n",
    "\n",
    "6.9, 6.1, 6.2, 6.8, 7.5, 6.3, 6.4, 6.9, 6.7, 6.1\n",
    "\n",
    "Предполагая, что результаты измерений подчинены нормальному закону распределения вероятностей, оценить истинное значение величины X при помощи доверительного интервала, покрывающего это значение с доверительной вероятностью 0,95."
   ]
  },
  {
   "cell_type": "code",
   "execution_count": 14,
   "metadata": {},
   "outputs": [
    {
     "name": "stdout",
     "output_type": "stream",
     "text": [
      "[6.27, 6.91]\n"
     ]
    }
   ],
   "source": [
    "x = np.array([6.9, 6.1, 6.2, 6.8, 7.5, 6.3, 6.4, 6.9, 6.7, 6.1])\n",
    "n = len(x)\n",
    "m = np.mean(x)\n",
    "s = np.std(x, ddof=1)\n",
    "a = 0.05\n",
    "se = s / n ** 0.5\n",
    "t_tabl = stats.t.ppf(1-a/2,n-1)\n",
    "\n",
    "print(f'[{round(m - se * t_tabl,2)}, {round(m + se * t_tabl,2)}]')"
   ]
  },
  {
   "cell_type": "markdown",
   "metadata": {},
   "source": [
    "## Задание 3\n",
    "Рост дочерей 175, 167, 154, 174, 178, 148, 160, 167, 169, 170\n",
    "Рост матерей  178, 165, 165, 173, 168, 155, 160, 164, 178, 175\n",
    "\n",
    "Используя эти данные построить 95% доверительный интервал для разности среднего роста родителей и детей."
   ]
  },
  {
   "cell_type": "code",
   "execution_count": 22,
   "metadata": {},
   "outputs": [
    {
     "name": "stdout",
     "output_type": "stream",
     "text": [
      "166.2, 168.1\n",
      "9.542885657214313, 7.752418977325723\n",
      "2.10092204024096\n",
      "[-6.2684, 10.0684]\n"
     ]
    }
   ],
   "source": [
    "x1 = np.array([175, 167, 154, 174, 178, 148, 160, 167, 169, 170])\n",
    "x2 = np.array([178, 165, 165, 173, 168, 155, 160, 164, 178, 175])\n",
    "m1 = np.mean(x1)\n",
    "m2 = np.mean(x2)\n",
    "delta = m2 - m1\n",
    "s1 = np.std(x1, ddof=1)\n",
    "s2 = np.std(x2, ddof=1)\n",
    "D = (s1 ** 2 + s2 ** 2) / 2\n",
    "n1 = n2 = len(x1)\n",
    "se = (D / n1 + D / n2) ** 0.5\n",
    "t_tabl = stats.t.ppf(0.975, n1 + n2 - 2)\n",
    "print(f'{m1}, {m2}')\n",
    "print(f'{s1}, {s2}')\n",
    "print(f'{t_tabl}')\n",
    "print(f'[{round(delta - t_tabl * se,4)}, {round(delta + se * t_tabl,4)}]')"
   ]
  }
 ],
 "metadata": {
  "kernelspec": {
   "display_name": "base",
   "language": "python",
   "name": "python3"
  },
  "language_info": {
   "codemirror_mode": {
    "name": "ipython",
    "version": 3
   },
   "file_extension": ".py",
   "mimetype": "text/x-python",
   "name": "python",
   "nbconvert_exporter": "python",
   "pygments_lexer": "ipython3",
   "version": "3.11.5"
  }
 },
 "nbformat": 4,
 "nbformat_minor": 2
}
