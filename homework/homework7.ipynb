{
 "cells": [
  {
   "cell_type": "markdown",
   "metadata": {},
   "source": [
    "## Урок 7. Непараметрические тесты\n",
    "1-4 задачи решать с помощью функций, 5ю вручную\n",
    "Выбрать тест и проверить, есть  ли различия между выборками:"
   ]
  },
  {
   "cell_type": "code",
   "execution_count": 1,
   "metadata": {},
   "outputs": [],
   "source": [
    "import numpy as np\n",
    "from scipy import stats"
   ]
  },
  {
   "cell_type": "markdown",
   "metadata": {},
   "source": [
    "### Задание 1 \n",
    "Даны две  независимые выборки. Не соблюдается условие нормальности\n",
    "x1  380,420, 290\n",
    "y1 140,360,200,900\n",
    "\n",
    "Сделайте вывод по результатам, полученным с помощью функции\n"
   ]
  },
  {
   "cell_type": "code",
   "execution_count": 5,
   "metadata": {},
   "outputs": [
    {
     "name": "stdout",
     "output_type": "stream",
     "text": [
      "MannwhitneyuResult(statistic=8.0, pvalue=0.6285714285714286)\n"
     ]
    }
   ],
   "source": [
    "# 𝐻0: 𝜇1 = 𝜇2\n",
    "# 𝐻1: 𝜇1 ≠ 𝜇2\n",
    "\n",
    "x1 = np.array([380,420, 290])\n",
    "y1 = np.array([140,360,200,900])\n",
    "\n",
    "print(stats.mannwhitneyu(x1,y1))\n",
    "\n",
    "p = 0.6>0.05\n",
    "# Гипотеза 0, статистически значимых различий не обнаружено"
   ]
  },
  {
   "cell_type": "markdown",
   "metadata": {},
   "source": [
    "### Задание 2 \n",
    "Исследовалось влияние препарата на уровень давления пациентов. Сначала измерялось давление до приема препарата, потом через 10 минут и через 30 минут. Есть ли статистически значимые различия?\n",
    "\n",
    "1е измерение до приема препарата: 150, 160, 165, 145, 155\n",
    "2е измерение через 10 минут: 140, 155, 150,  130, 135\n",
    "3е измерение через 30 минут: 130, 130, 120, 130, 125"
   ]
  },
  {
   "cell_type": "code",
   "execution_count": 6,
   "metadata": {},
   "outputs": [
    {
     "name": "stdout",
     "output_type": "stream",
     "text": [
      "FriedmanchisquareResult(statistic=9.578947368421062, pvalue=0.00831683351100441)\n"
     ]
    }
   ],
   "source": [
    "# 𝐻0: 𝜇1 = 𝜇2\n",
    "# 𝐻1: 𝜇1 ≠ 𝜇2\n",
    "\n",
    "x1 = np.array([ 150, 160, 165, 145, 155 ])\n",
    "x2 = np.array([ 140, 155, 150,  130, 135 ])\n",
    "x3 = np.array([ 130, 130, 120, 130, 125 ])\n",
    "\n",
    "print(stats.friedmanchisquare(x1,x2,x3))\n",
    "\n",
    "p = 0.0083< 0.05\n",
    "\n",
    "# Гипотеза 1, есть статистически значимые различия"
   ]
  },
  {
   "cell_type": "markdown",
   "metadata": {},
   "source": [
    "### Задание 3\n",
    "Сравните 1 и 2 е измерения, предполагая, что 3го измерения через 30 минут не было."
   ]
  },
  {
   "cell_type": "code",
   "execution_count": 7,
   "metadata": {},
   "outputs": [
    {
     "name": "stdout",
     "output_type": "stream",
     "text": [
      "WilcoxonResult(statistic=0.0, pvalue=0.0625)\n"
     ]
    }
   ],
   "source": [
    "# 𝐻0: 𝜇1 = 𝜇2\n",
    "# 𝐻1: 𝜇1 ≠ 𝜇2\n",
    "\n",
    "x1 = np.array([ 150, 160, 165, 145, 155 ])\n",
    "x2 = np.array([ 140, 155, 150,  130, 135 ])\n",
    "\n",
    "print(stats.wilcoxon(x1,x2))\n",
    "\n",
    "p = 0.0625> 0.05\n",
    "\n",
    "# Гипотеза 0, статистически значимых различий не обнаружено"
   ]
  },
  {
   "cell_type": "markdown",
   "metadata": {},
   "source": [
    "### Задание 4\n",
    "Даны 3 группы  учеников плавания.\n",
    "В 1 группе время на дистанцию 50 м составляют:\n",
    "56, 60, 62, 55, 71, 67, 59, 58, 64, 67\n",
    "\n",
    "Вторая группа : 57, 58, 69, 48, 72, 70, 68, 71, 50, 53\n",
    "Третья группа: 57, 67, 49, 48, 47, 55, 66, 51, 54"
   ]
  },
  {
   "cell_type": "code",
   "execution_count": 8,
   "metadata": {},
   "outputs": [
    {
     "name": "stdout",
     "output_type": "stream",
     "text": [
      "KruskalResult(statistic=5.465564058257224, pvalue=0.0650380998590494)\n"
     ]
    }
   ],
   "source": [
    "# 𝐻0: 𝜇1 = 𝜇2\n",
    "# 𝐻1: 𝜇1 ≠ 𝜇2\n",
    "\n",
    "x1 = np.array([ 56, 60, 62, 55, 71, 67, 59, 58, 64, 67 ])\n",
    "x2 = np.array([ 57, 58, 69, 48, 72, 70, 68, 71, 50, 53 ])\n",
    "x3 = np.array([ 57, 67, 49, 48, 47, 55, 66, 51, 54])\n",
    "\n",
    "print(stats.kruskal(x1,x2,x3))\n",
    "\n",
    "p = 0.065> 0.05\n",
    "\n",
    "# Гипотеза 0, статистически значимых различий не обнаружено"
   ]
  },
  {
   "cell_type": "markdown",
   "metadata": {},
   "source": [
    "### Задание 5\n",
    "Заявляется, что партия изготавливается со средним арифметическим 2,5 см. Проверить данную гипотезу, если известно, что размеры изделий подчинены нормальному закону распределения. Объем выборки 10, уровень статистической значимости 5%\n",
    "\n",
    "2.51, 2.35, 2.74, 2.56, 2.40, 2.36, 2.65, 2.7, 2.67, 2.34"
   ]
  },
  {
   "cell_type": "code",
   "execution_count": 24,
   "metadata": {},
   "outputs": [
    {
     "name": "stdout",
     "output_type": "stream",
     "text": [
      "t=0.5630613661802959, t_tabl=2.2621571627409915\n",
      "Гипотеза H0\n",
      "t_samp=0.5630613661802959, pvalue=0.5871439993940628\n",
      "Гипотеза H0\n"
     ]
    }
   ],
   "source": [
    "# H0: M(X) = 2.5\n",
    "# H1: M(X) ≠ 2.5\n",
    "x = np.array([2.51, 2.35, 2.74, 2.56, 2.40, 2.36, 2.65, 2.7, 2.67, 2.34])\n",
    "n= len(x) \n",
    "a = 0.05\n",
    "m0=2.5\n",
    "m = np.mean(x)\n",
    "sko = np.std(x, ddof = 1) \n",
    "t = (m-m0)/(sko/n**0.5)\n",
    "t_tabl = stats.t.ppf(0.975, len(x)-1)\n",
    "print(f't={abs(t)}, t_tabl={abs(t_tabl)}')\n",
    "if (t<t_tabl):\n",
    "    print('Гипотеза H0')\n",
    "else:\n",
    "    print('Гипотеза H1')\n",
    "\n",
    "t_samp, pvalue = stats.ttest_1samp(x,popmean=m0,alternative='two-sided')\n",
    "\n",
    "print(f't_samp={t_samp}, pvalue={pvalue}')\n",
    "\n",
    "if (pvalue>a):\n",
    "    print('Гипотеза H0')\n",
    "else:\n",
    "    print('Гипотеза H1')\n",
    "\n"
   ]
  }
 ],
 "metadata": {
  "kernelspec": {
   "display_name": "base",
   "language": "python",
   "name": "python3"
  },
  "language_info": {
   "codemirror_mode": {
    "name": "ipython",
    "version": 3
   },
   "file_extension": ".py",
   "mimetype": "text/x-python",
   "name": "python",
   "nbconvert_exporter": "python",
   "pygments_lexer": "ipython3",
   "version": "3.11.5"
  }
 },
 "nbformat": 4,
 "nbformat_minor": 2
}
