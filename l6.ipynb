{
 "cells": [
  {
   "cell_type": "code",
   "execution_count": 8,
   "metadata": {},
   "outputs": [],
   "source": [
    "from scipy import stats"
   ]
  },
  {
   "cell_type": "markdown",
   "metadata": {},
   "source": [
    "### Задание 1\n",
    "\n",
    "Известно, что генеральная совокупность распределена нормально со средним квадратичным 5. Найти доверительный интервал для оценки среднего арифметического с надежностью 0,95, если выборочная средняя М =24.15, а объем выборки 100."
   ]
  },
  {
   "cell_type": "code",
   "execution_count": 12,
   "metadata": {},
   "outputs": [
    {
     "name": "stdout",
     "output_type": "stream",
     "text": [
      "-1.9599639845400545\n",
      "[23.17,25.13]\n"
     ]
    }
   ],
   "source": [
    "# Х ± 𝑍(𝛼/2)𝜎/(n^0.5) \n",
    "m=24.15\n",
    "n=100\n",
    "sko=5\n",
    "a2=0.025\n",
    "zt = stats.norm.ppf(a2)\n",
    "print(zt)\n",
    "\n",
    "a=round(m+zt*sko/n**(0.5),2)\n",
    "b=round(m-zt*sko/n**(0.5),2)\n",
    "print(f'[{a},{b}]')"
   ]
  },
  {
   "cell_type": "markdown",
   "metadata": {},
   "source": [
    "### Задание 2\n",
    "\n",
    "Дана выборка, состоящая из роста 10 человек. Оценить средний рост в данной популяции с помощью 95% интервала."
   ]
  },
  {
   "cell_type": "code",
   "execution_count": 22,
   "metadata": {},
   "outputs": [
    {
     "name": "stdout",
     "output_type": "stream",
     "text": [
      "174.0 166.44\n",
      "-2.262157162740992\n",
      "[164.77,183.23]\n"
     ]
    }
   ],
   "source": [
    "import numpy as np\n",
    "# 𝑥± 𝑡(𝛼/2)*𝜎/𝑛^(0.5)\n",
    "x = [178, 184, 149, 193, 186, 173, 169, 175, 159, 174]\n",
    "n=10\n",
    "a=0.05\n",
    "a2=0.025\n",
    "\n",
    "m = np.mean(x)\n",
    "D = round(np.var(x, ddof = 1),2)\n",
    "print(m,D)\n",
    "\n",
    "tt = stats.t.ppf(a2,n-1)\n",
    "print(tt)\n",
    "\n",
    "a=round(m+tt*(D/n)**(0.5),2)\n",
    "b=round(m-tt*(D/n)**(0.5),2)\n",
    "print(f'[{a},{b}]')\n",
    "\n",
    "#В лекции [166.06; 181.94]"
   ]
  },
  {
   "cell_type": "markdown",
   "metadata": {},
   "source": [
    "### Задание 3\n",
    "\n",
    "Оценить различие в росте между двумя средними арифметическими популяции a и b с помощью 95%\n",
    "доверительного интервала.\n"
   ]
  },
  {
   "cell_type": "code",
   "execution_count": 30,
   "metadata": {},
   "outputs": [
    {
     "name": "stdout",
     "output_type": "stream",
     "text": [
      "10 174.0 166.44444444444446\n",
      "10 162.0 80.0\n",
      "delta =12.0 SE = 4.964317117635058\n",
      "tt = -2.10092204024096\n",
      "[1.570356752815032,22.42964324718497]\n"
     ]
    }
   ],
   "source": [
    "x1 = [178, 184, 149, 193, 186, 173, 169, 175, 159, 174]\n",
    "x2 = [150, 154, 167, 165, 171, 150, 158, 170, 175, 160]\n",
    "n1 = len(x1)\n",
    "n2 = len(x2)\n",
    "m1 = np.mean(x1)\n",
    "m2 = np.mean(x2)\n",
    "D1 = np.var(x1, ddof=1)\n",
    "D2 = np.var(x2, ddof=1)\n",
    "print(n1,m1,D1)\n",
    "print(n2,m2,D2)\n",
    "\n",
    "delta = m1 - m2\n",
    "SE = (D1/n1+D2/n2)**0.5\n",
    "print(f'delta ={delta} SE = {SE}')\n",
    "\n",
    "tt = stats.t.ppf(0.025,n1+n2-2)\n",
    "print(f'tt = {tt}')\n",
    "\n",
    "L = delta + tt*SE\n",
    "U = delta - tt*SE\n",
    "print(f'[{L},{U}]')\n",
    "\n",
    "#В лекции [0.77; 23.23]"
   ]
  },
  {
   "cell_type": "markdown",
   "metadata": {},
   "source": [
    "### Задание 4\n",
    "\n",
    "Построить 95% доверительный интервал для истинного 𝑝 – доли носителей некоторого гена. Объем выборки 100. Доля носителей в выборке составляет 0.2\n",
    "100 * 0.2 = 20 и 100 * (1-0.2) = 80 , оба значения > 5"
   ]
  },
  {
   "cell_type": "code",
   "execution_count": 33,
   "metadata": {},
   "outputs": [
    {
     "name": "stdout",
     "output_type": "stream",
     "text": [
      "-1.9599639845400545\n",
      "[0.12160144061839782,0.2783985593816022]\n"
     ]
    }
   ],
   "source": [
    "p = 0.2\n",
    "n = 100\n",
    "a = 0.05\n",
    "zt = stats.norm.ppf(a/2)\n",
    "print(zt)\n",
    "\n",
    "a = p + zt*(p*(1-p)/n)**0.5\n",
    "b = p - zt*(p*(1-p)/n)**0.5\n",
    "\n",
    "print(f'[{a},{b}]')"
   ]
  },
  {
   "cell_type": "markdown",
   "metadata": {},
   "source": [
    "### Задача 6. Сравнение долей.\n",
    "\n",
    "Есть две группы студентов объемом 56 и 61, которые сдают международный экзамен на знание иностранного языка. Максимальное число баллов за тест 120. Высокая оценка считается выше 100 баллов. В первой группе высокую оценку получили 7 студентов, а во второй 22. Есть ли статистически значимые различия в долях студентов этих двух групп, сдавших тест на высокий балл."
   ]
  },
  {
   "cell_type": "code",
   "execution_count": 45,
   "metadata": {},
   "outputs": [
    {
     "data": {
      "text/plain": [
       "2.7269508736698227"
      ]
     },
     "execution_count": 45,
     "metadata": {},
     "output_type": "execute_result"
    }
   ],
   "source": [
    "n1 = 56\n",
    "n2 = 61\n",
    "m1 = 7\n",
    "m2 = 22\n",
    "p1 = m1/n1\n",
    "p2 = m2/n2\n",
    "p=round((m1+m2)/(n1+n2),2)\n",
    "\n",
    "z=(abs(p1-p2)-1/2*(1/n1+1/n2))/((p*(1-p)*(1/n1+1/n2))**0.5)\n",
    "z\n",
    "\n",
    "# В лекции 2.725"
   ]
  },
  {
   "cell_type": "markdown",
   "metadata": {},
   "source": [
    "### Задача 7. Интервал для разности долей\n",
    "\n",
    "На одном сайте из 153 посетителей 75 оформили заказ, а на другом сайте из 120 посетителей заказ оформили 50 человек. Оценить с помощью доверительного интервала разность долей покупателей, совершивших покупку."
   ]
  },
  {
   "cell_type": "code",
   "execution_count": 40,
   "metadata": {},
   "outputs": [
    {
     "name": "stdout",
     "output_type": "stream",
     "text": [
      "0.07352941176470584 0.06075306628874038 1.959963984540054\n",
      "-0.04554441011159979 0.19260323364101148\n"
     ]
    }
   ],
   "source": [
    "n1 = 153\n",
    "m1 = 75\n",
    "n2 = 120\n",
    "m2 = 50\n",
    "p1 = m1/n1\n",
    "p2 = m2/n2\n",
    "p = (m1+m2)/(n1+n2)\n",
    "delta = p1-p2\n",
    "S = (p*(1-p)*(1/n1+1/n2))**0.5\n",
    "z_tabl = stats.norm.ppf(0.975)\n",
    "print(delta,S,z_tabl)\n",
    "\n",
    "print(delta-S*z_tabl,delta+S*z_tabl)\n",
    "\n"
   ]
  }
 ],
 "metadata": {
  "kernelspec": {
   "display_name": "base",
   "language": "python",
   "name": "python3"
  },
  "language_info": {
   "codemirror_mode": {
    "name": "ipython",
    "version": 3
   },
   "file_extension": ".py",
   "mimetype": "text/x-python",
   "name": "python",
   "nbconvert_exporter": "python",
   "pygments_lexer": "ipython3",
   "version": "3.11.5"
  }
 },
 "nbformat": 4,
 "nbformat_minor": 2
}
