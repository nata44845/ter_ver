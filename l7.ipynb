{
 "cells": [
  {
   "cell_type": "markdown",
   "metadata": {},
   "source": [
    "Критерий Манна-Уитни"
   ]
  },
  {
   "cell_type": "code",
   "execution_count": 5,
   "metadata": {},
   "outputs": [
    {
     "data": {
      "text/plain": [
       "MannwhitneyuResult(statistic=5.0, pvalue=1.0)"
      ]
     },
     "execution_count": 5,
     "metadata": {},
     "output_type": "execute_result"
    }
   ],
   "source": [
    "import numpy as np\n",
    "import scipy.stats as stats\n",
    "\n",
    "x1 =  np.array([47, 90, 75])\n",
    "x2 =  np.array([58, 60, 77])\n",
    "\n",
    "stats.mannwhitneyu(x1,x2)"
   ]
  },
  {
   "cell_type": "markdown",
   "metadata": {},
   "source": [
    "Задача. Критерий Уилкоксона\n",
    "Исследуется влияние некоторой диеты на вес пациентов. В исследовании участвуют 10 пациентов."
   ]
  },
  {
   "cell_type": "code",
   "execution_count": 9,
   "metadata": {},
   "outputs": [
    {
     "data": {
      "text/plain": [
       "WilcoxonResult(statistic=9.0, pvalue=0.064453125)"
      ]
     },
     "execution_count": 9,
     "metadata": {},
     "output_type": "execute_result"
    }
   ],
   "source": [
    "import numpy as np\n",
    "import scipy.stats as stats\n",
    "\n",
    "x1 = np.array([70, 74, 74.5, 79, 85, 93, 94, 98, 106.5, 107])\n",
    "x2 = np.array([64, 76.5, 67, 73.5, 89, 85, 89.5, 91, 98, 100.5])\n",
    "\n",
    "x2-x1\n",
    "\n",
    "stats.wilcoxon(x1,x2)\n",
    "\n",
    "x1 = np.array([70, 74, 74.5, 79, 85, 93, 94, 98, 106.5, 107])\n",
    "x3 = np.array([64, 76.5, 67, 73.5, 89, 85, 89.5, 91, 98, 113.5])\n",
    "\n",
    "stats.wilcoxon(x1,x3)"
   ]
  },
  {
   "cell_type": "markdown",
   "metadata": {},
   "source": [
    "Тест Крускала – Уоллиса "
   ]
  },
  {
   "cell_type": "code",
   "execution_count": 10,
   "metadata": {},
   "outputs": [
    {
     "data": {
      "text/plain": [
       "KruskalResult(statistic=15.384044526901675, pvalue=0.00045645416718036815)"
      ]
     },
     "execution_count": 10,
     "metadata": {},
     "output_type": "execute_result"
    }
   ],
   "source": [
    "import numpy as np\n",
    "import scipy.stats as stats\n",
    "\n",
    "gr_1 = np.array([70, 50, 64, 61, 75, 67, 73])\n",
    "gr_2 = np.array([80, 78, 90, 68, 74, 65, 85])\n",
    "gr_3 = np.array([141, 142, 140, 152, 161, 163, 155])\n",
    "\n",
    "stats.kruskal(gr_1, gr_2, gr_3)"
   ]
  },
  {
   "cell_type": "markdown",
   "metadata": {},
   "source": [
    "Критерий Фридмана"
   ]
  },
  {
   "cell_type": "code",
   "execution_count": 11,
   "metadata": {},
   "outputs": [
    {
     "data": {
      "text/plain": [
       "FriedmanchisquareResult(statistic=5.200000000000003, pvalue=0.0742735782143338)"
      ]
     },
     "execution_count": 11,
     "metadata": {},
     "output_type": "execute_result"
    }
   ],
   "source": [
    "import numpy as np\n",
    "import scipy.stats as stats\n",
    "\n",
    "before = np.array([123, 135, 119, 109, 145])\n",
    "diet_1 = np.array([126, 144, 117, 156, 170])\n",
    "diet_2 = np.array([141, 150, 164, 147, 169])\n",
    "\n",
    "stats.friedmanchisquare(before, diet_1, diet_2)"
   ]
  }
 ],
 "metadata": {
  "kernelspec": {
   "display_name": "base",
   "language": "python",
   "name": "python3"
  },
  "language_info": {
   "codemirror_mode": {
    "name": "ipython",
    "version": 3
   },
   "file_extension": ".py",
   "mimetype": "text/x-python",
   "name": "python",
   "nbconvert_exporter": "python",
   "pygments_lexer": "ipython3",
   "version": "3.11.5"
  }
 },
 "nbformat": 4,
 "nbformat_minor": 2
}
